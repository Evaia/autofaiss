{
 "cells": [
  {
   "cell_type": "markdown",
   "metadata": {},
   "source": [
    "# Python code to create a quantized index"
   ]
  },
  {
   "cell_type": "code",
   "execution_count": 1,
   "metadata": {},
   "outputs": [],
   "source": [
    "from autofaiss.external.quantize import Quantizer\n",
    "from autofaiss.external.optimize import get_optimal_index_keys\n",
    "quantizer = Quantizer()"
   ]
  },
  {
   "cell_type": "markdown",
   "metadata": {},
   "source": [
    "## 1. (Optional) Use heuristic to find an index that matchs your memory requirements\n",
    "\n",
    "The indices are sorted by decreasing size.  \n",
    "If you let the heuristic choose for you in the quantize function (next step), it will just choose the first one.\n",
    "\n",
    "More info about how to choose an index here : https://github.com/facebookresearch/faiss/wiki/Guidelines-to-choose-an-index"
   ]
  },
  {
   "cell_type": "code",
   "execution_count": 2,
   "metadata": {
    "tags": []
   },
   "outputs": [
    {
     "name": "stdout",
     "output_type": "stream",
     "text": [
      "['OPQ64_256,IVF131072_HNSW32,PQ64x8', 'OPQ64_256,IVF65536_HNSW32,PQ64x8', 'OPQ64_256,IVF262144_HNSW32,PQ64x8']\n"
     ]
    }
   ],
   "source": [
    "print(get_optimal_index_keys(nb_vectors=200_000_000,\n",
    "                             dim_vector=1280,\n",
    "                             max_index_memory_usage=\"20G\")[:3])"
   ]
  },
  {
   "cell_type": "markdown",
   "metadata": {},
   "source": [
    "## 2. Create the index that maximizes the recalls given speed and memory constraints\n",
    "\n",
    "The index created will be saved on the hdfs and on local disk at `local_embeddings_path` path.\n",
    "\n",
    "You can try it following the instructions in the `use_index.ipynb` notebook."
   ]
  },
  {
   "cell_type": "code",
   "execution_count": 3,
   "metadata": {},
   "outputs": [
    {
     "name": "stdout",
     "output_type": "stream",
     "text": [
      "Checking that your have enough memory available to create the index\n",
      ">>> Finished in 3.8933 secs\n",
      "Download the parquet files on local disk\n"
     ]
    },
    {
     "name": "stderr",
     "output_type": "stream",
     "text": [
      "100%|██████████| 926/926 [00:10<00:00, 84.40it/s]"
     ]
    },
    {
     "name": "stdout",
     "output_type": "stream",
     "text": [
      ">>> Finished in 11.0367 secs\n",
      "Convert .parquet files to numpy arrays\n"
     ]
    },
    {
     "name": "stderr",
     "output_type": "stream",
     "text": [
      "\n",
      "100%|██████████| 926/926 [01:48<00:00,  8.52it/s]"
     ]
    },
    {
     "name": "stdout",
     "output_type": "stream",
     "text": [
      ">>> Finished in 108.7071 secs\n",
      "Computing inverse mapping between indice and (productID, partnerID)\n"
     ]
    },
    {
     "name": "stderr",
     "output_type": "stream",
     "text": [
      "\n"
     ]
    },
    {
     "name": "stdout",
     "output_type": "stream",
     "text": [
      ">>> Finished in 9.0159 secs\n",
      "Saving mapping on hdfs\n",
      ">>> Finished in 3.3729 secs\n",
      "Selecting most promising index types given data characteristics\n",
      ">>> Finished in 0.3582 secs\n",
      "Creating the index\n",
      "\t-> Instanciate the index OPQ64_256,IVF131072_HNSW32,PQ64x8\n",
      "\t>>> Finished in 0.1376 secs\n",
      "\t-> Extract training vectors\n"
     ]
    },
    {
     "name": "stderr",
     "output_type": "stream",
     "text": [
      " 40%|████      | 375/926 [01:27<02:08,  4.30it/s]"
     ]
    },
    {
     "name": "stdout",
     "output_type": "stream",
     "text": [
      "\t>>> Finished in 87.3671 secs\n",
      "\t-> Training the index with 13133231 vectors of dim 1280\n"
     ]
    },
    {
     "name": "stderr",
     "output_type": "stream",
     "text": [
      "\n"
     ]
    },
    {
     "name": "stdout",
     "output_type": "stream",
     "text": [
      "\t>>> Finished in 992.9961 secs\n",
      "\t-> Adding the vectors to the index\n"
     ]
    },
    {
     "name": "stderr",
     "output_type": "stream",
     "text": [
      "100%|██████████| 926/926 [06:56<00:00,  2.22it/s]\n"
     ]
    },
    {
     "name": "stdout",
     "output_type": "stream",
     "text": [
      "\t>>> Finished in 417.2501 secs\n",
      ">>> Finished in 1497.8998 secs\n",
      "Computing best hyperparameters\n",
      ">>> Finished in 35.3311 secs\n",
      "The best hyperparameters are: nprobe=128,efSearch=256,ht=2048\n",
      "Saving index on hdfs\n",
      ">>> Finished in 20.4893 secs\n",
      "Saving the index on local disk\n",
      ">>> Finished in 1.3484 secs\n",
      "Compute fast metrics\n",
      ">>> Finished in 13.4495 secs\n",
      "Intermediate recap:\n",
      "{'average speed': '4.16 ms/query',\n",
      " 'compression ratio': 66,\n",
      " 'nb vectors': 32431891,\n",
      " 'reconstruction error': '45.2587%',\n",
      " 'size': '2.3G',\n",
      " 'vectors dimension': 1280}\n",
      "Compute medium metrics\n",
      "\t-> Compute small ground truth\n"
     ]
    },
    {
     "name": "stderr",
     "output_type": "stream",
     "text": [
      "100%|██████████| 926/926 [06:38<00:00,  2.33it/s]\n"
     ]
    },
    {
     "name": "stdout",
     "output_type": "stream",
     "text": [
      "\t>>> Finished in 411.0809 secs\n",
      "\t-> Compute recalls\n",
      "\t>>> Finished in 2.4312 secs\n",
      ">>> Finished in 413.6411 secs\n",
      "\n",
      "Index OPQ64_256,IVF131072_HNSW32,PQ64x8 built, performances recap:\n",
      "{'1-recall@20': 0.868,\n",
      " '1-recall@40': 0.92,\n",
      " '20-recall@20': 0.46840000000000004,\n",
      " '40-recall@40': 0.48815,\n",
      " 'average speed': '4.16 ms/query',\n",
      " 'compression ratio': 66,\n",
      " 'nb vectors': 32431891,\n",
      " 'reconstruction error': '45.2587%',\n",
      " 'size': '2.3G',\n",
      " 'vectors dimension': 1280}\n"
     ]
    },
    {
     "data": {
      "text/plain": [
       "'Done'"
      ]
     },
     "execution_count": 3,
     "metadata": {},
     "output_type": "execute_result"
    }
   ],
   "source": [
    "# Fix a specific index or let the heuristic choose for you given the memory constaint\n",
    "index_key = [\"OPQ32_128,IVF131072_HNSW32,PQ32x8\", None][1]\n",
    "\n",
    "# Fix specific search params or let the heuristic choose for you given the speed constaint\n",
    "index_param = [\"nprobe=16,efSearch=32,ht=2048\", None][1]\n",
    "\n",
    "# Launch the quantization pipeline\n",
    "quantizer.quantize(embeddings_path=\"/user/deepr/dev/r.beaumont/image_embeddings_100_views_US\",\n",
    "                   output_path=\"/user/v.paltz/tests_autofaiss/image_embeddings_100_views_US\",\n",
    "                   local_embeddings_path=\"/home/v.paltz/downloaded_vectors/image_embeddings_100_views_US\",\n",
    "                   index_key=index_key,\n",
    "                   index_param=index_param,\n",
    "                   max_index_query_time_ms=5.0,\n",
    "                   max_index_memory_usage=\"18G\",\n",
    "                   current_memory_available=\"300G\",\n",
    "                   use_gpu=False,\n",
    "                   metric_type=\"ip\")"
   ]
  },
  {
   "cell_type": "code",
   "execution_count": null,
   "metadata": {},
   "outputs": [],
   "source": []
  }
 ],
 "metadata": {
  "kernelspec": {
   "display_name": "Python 3",
   "language": "python",
   "name": "python3"
  },
  "language_info": {
   "codemirror_mode": {
    "name": "ipython",
    "version": 3
   },
   "file_extension": ".py",
   "mimetype": "text/x-python",
   "name": "python",
   "nbconvert_exporter": "python",
   "pygments_lexer": "ipython3",
   "version": "3.7.7"
  }
 },
 "nbformat": 4,
 "nbformat_minor": 2
}
