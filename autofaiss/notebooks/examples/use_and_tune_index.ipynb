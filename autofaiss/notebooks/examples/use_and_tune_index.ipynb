{
 "cells": [
  {
   "cell_type": "markdown",
   "metadata": {},
   "source": [
    "# Example of utilisation of a Faiss index"
   ]
  },
  {
   "cell_type": "code",
   "execution_count": 1,
   "metadata": {},
   "outputs": [],
   "source": [
    "import faiss\n",
    "import numpy as np\n",
    "\n",
    "from autofaiss.datasets.readers.local_iterators import read_embeddings_local\n",
    "from autofaiss.datasets.readers.remote_iterators import read_embeddings_remote, read_mapping_remote\n",
    "from autofaiss.external.optimize import get_optimal_hyperparameters\n",
    "from autofaiss.external.scores import compute_fast_metrics\n",
    "from autofaiss.indices.index_utils import load_index_from_hdfs, set_search_hyperparameters\n",
    "from autofaiss.utils.decorators import Timeit\n",
    "from autofaiss.utils.hdfs_utils import HDFSFileSystem\n"
   ]
  },
  {
   "cell_type": "markdown",
   "metadata": {},
   "source": [
    "## Loading index, inverse-mapping and some product embeddings from HDFS"
   ]
  },
  {
   "cell_type": "code",
   "execution_count": 2,
   "metadata": {},
   "outputs": [],
   "source": [
    "INDEX_PATH_ON_HDFS = \"/user/v.paltz/tests_autofaiss/image_embeddings_0_views_US/OPQ64_256,IVF131072_HNSW32,PQ64x8-nprobe=16,efSearch=32,ht=2048.index\"\n",
    "VECTORS_PATH_ON_HDFS = \"/user/deepr/dev/r.beaumont/image_embeddings_0_views_US\"\n",
    "INVERSE_MAPPING_PATH_ON_HDFS = \"/user/v.paltz/tests_autofaiss/image_embeddings_0_views_US/inverse_mapping.npy\""
   ]
  },
  {
   "cell_type": "code",
   "execution_count": 3,
   "metadata": {},
   "outputs": [],
   "source": [
    "INDEX_PATH_ON_HDFS = \"/user/v.paltz/tests_autofaiss/image_embeddings_100_views_US/OPQ64_256,IVF65536_HNSW32,PQ64x8-nprobe=256,efSearch=512,ht=2048.index\"\n",
    "VECTORS_PATH_ON_HDFS = \"/user/deepr/dev/r.beaumont/image_embeddings_100_views_US\"\n",
    "INVERSE_MAPPING_PATH_ON_HDFS = \"/user/v.paltz/tests_autofaiss/image_embeddings_100_views_US/inverse_mapping.npy\""
   ]
  },
  {
   "cell_type": "code",
   "execution_count": 4,
   "metadata": {
    "tags": []
   },
   "outputs": [
    {
     "name": "stdout",
     "output_type": "stream",
     "text": [
      "Loading index from hdfs\n",
      ">>> Finished in 17.9041 secs\n"
     ]
    }
   ],
   "source": [
    "with Timeit(\"Loading index from hdfs\"):\n",
    "    my_index = load_index_from_hdfs(INDEX_PATH_ON_HDFS)"
   ]
  },
  {
   "cell_type": "code",
   "execution_count": 5,
   "metadata": {
    "tags": []
   },
   "outputs": [
    {
     "name": "stdout",
     "output_type": "stream",
     "text": [
      "Loading mapping from hdfs\n",
      ">>> Finished in 5.7593 secs\n"
     ]
    }
   ],
   "source": [
    "with Timeit(\"Loading mapping from hdfs\"):\n",
    "    with HDFSFileSystem() as hdfs:\n",
    "        with hdfs.open(INVERSE_MAPPING_PATH_ON_HDFS, mode=\"rb\") as inverse_mapping_file:\n",
    "            inverse_mapping = np.load(inverse_mapping_file)"
   ]
  },
  {
   "cell_type": "code",
   "execution_count": 6,
   "metadata": {
    "tags": []
   },
   "outputs": [
    {
     "name": "stdout",
     "output_type": "stream",
     "text": [
      "Loading a few vectors from hdfs\n",
      ">>> Finished in 2.8073 secs\n"
     ]
    }
   ],
   "source": [
    "with Timeit(\"Loading a few vectors from hdfs\"):\n",
    "    example_vectors = next(read_embeddings_remote(VECTORS_PATH_ON_HDFS, verbose=False))"
   ]
  },
  {
   "cell_type": "markdown",
   "metadata": {},
   "source": [
    "## Sanity checks"
   ]
  },
  {
   "cell_type": "code",
   "execution_count": 7,
   "metadata": {},
   "outputs": [],
   "source": [
    "# Assert the mapping array has the same size as the index.\n",
    "assert inverse_mapping.shape == (my_index.ntotal, 2)\n",
    "\n",
    "# Verify that mapping array is correct.\n",
    "example_mapping_remote = next(read_mapping_remote(VECTORS_PATH_ON_HDFS, verbose=False, stack_input=2))\n",
    "assert np.all(inverse_mapping[:example_mapping_remote.shape[0]] == example_mapping_remote)\n",
    "\n",
    "if False:\n",
    "    # Verify the local embeddings arrays are in the same order\n",
    "    LOCAL_EMBEDDING_PATH = \"/home/v.paltz/downloaded_vectors/image_embeddings_100_views_US\"\n",
    "    example_vectors_local = next(read_embeddings_local(LOCAL_EMBEDDING_PATH, verbose=False, stack_input=1))\n",
    "    assert np.all(example_vectors == example_vectors_local)"
   ]
  },
  {
   "cell_type": "markdown",
   "metadata": {},
   "source": [
    "## Printing infos about the current index"
   ]
  },
  {
   "cell_type": "code",
   "execution_count": 8,
   "metadata": {
    "tags": []
   },
   "outputs": [
    {
     "name": "stdout",
     "output_type": "stream",
     "text": [
      "Get basic infos about index\n",
      "{'average speed': '14.86 ms/query',\n",
      " 'compression ratio': 69,\n",
      " 'nb vectors': 32431891,\n",
      " 'reconstruction error': '45.2803%',\n",
      " 'size': '2.3G',\n",
      " 'vectors dimension': 1280}\n",
      ">>> Finished in 17.4455 secs\n"
     ]
    }
   ],
   "source": [
    "from pprint import pprint\n",
    "\n",
    "with Timeit(\"Get basic infos about index\"):\n",
    "    pprint(compute_fast_metrics(VECTORS_PATH_ON_HDFS, my_index))"
   ]
  },
  {
   "cell_type": "markdown",
   "metadata": {},
   "source": [
    "## KNN Search on random products"
   ]
  },
  {
   "cell_type": "code",
   "execution_count": 9,
   "metadata": {},
   "outputs": [],
   "source": [
    "from autofaiss.catalog.display import display_results, display_product\n",
    "from autofaiss.catalog.external_requests import product_partner_to_str\n",
    "from autofaiss.indices.index_utils import quantize_vec_without_modifying_index\n",
    "from autofaiss.indices.search import knn_query"
   ]
  },
  {
   "cell_type": "code",
   "execution_count": 10,
   "metadata": {
    "tags": []
   },
   "outputs": [
    {
     "data": {
      "text/html": [
       "<img src=\"https://cdn.homes.com/cgi-bin/readimage/2da5b4c40b5cb5f0af95c664f40b6ae9/2653-highland-meadows-way-virginia-beach-va-23456-0.jpg\" width=\"120\" >"
      ],
      "text/plain": [
       "<IPython.core.display.HTML object>"
      ]
     },
     "metadata": {},
     "output_type": "display_data"
    },
    {
     "data": {
      "application/vnd.jupyter.widget-view+json": {
       "model_id": "3b17dbe0ba9c40e8be0a3399eddcc8b9",
       "version_major": 2,
       "version_minor": 0
      },
      "text/plain": [
       "HBox(children=(VBox(children=(Label(value='134.6444'), HTML(value='<img src=\"https://cdn.homes.com/x2/@v=-1053…"
      ]
     },
     "metadata": {},
     "output_type": "display_data"
    },
    {
     "data": {
      "application/vnd.jupyter.widget-view+json": {
       "model_id": "dd1053aabfc54f139000d4646246a533",
       "version_major": 2,
       "version_minor": 0
      },
      "text/plain": [
       "HBox(children=(VBox(children=(Label(value='131.4819'), HTML(value='<img src=\"https://cdn.homes.com/x2/@v=-2011…"
      ]
     },
     "metadata": {},
     "output_type": "display_data"
    },
    {
     "data": {
      "application/vnd.jupyter.widget-view+json": {
       "model_id": "4c2083cf42ba4985961bf783d3eebdf2",
       "version_major": 2,
       "version_minor": 0
      },
      "text/plain": [
       "HBox(children=(VBox(children=(Label(value='130.6400'), HTML(value='<img src=\"https://cdn.homes.com/x2/@v=41933…"
      ]
     },
     "metadata": {},
     "output_type": "display_data"
    }
   ],
   "source": [
    "MAX_PER_LINE = 10\n",
    "NB_PRODUCTS_TO_SHOW = 30\n",
    "START_FROM = 0\n",
    "QUANTISE_BEFORE_QUERY = True\n",
    "\n",
    "\n",
    "num_product = np.random.randint(example_vectors.shape[0])\n",
    "product_embedding = example_vectors[num_product]\n",
    "\n",
    "if QUANTISE_BEFORE_QUERY:\n",
    "    product_embedding = quantize_vec_without_modifying_index(my_index, np.expand_dims(product_embedding, 0))[0]\n",
    "\n",
    "\n",
    "display_product(tuple(inverse_mapping[num_product]))\n",
    "\n",
    "product_nums = knn_query(my_index, product_embedding, START_FROM + NB_PRODUCTS_TO_SHOW, inverse_mapping)[START_FROM:]\n",
    "\n",
    "for b in range(0, NB_PRODUCTS_TO_SHOW, MAX_PER_LINE):\n",
    "    display_results(product_nums[b:b + MAX_PER_LINE])"
   ]
  },
  {
   "cell_type": "markdown",
   "metadata": {},
   "source": [
    "## Bonus: tuning the hyperparameters"
   ]
  },
  {
   "cell_type": "code",
   "execution_count": 11,
   "metadata": {
    "tags": []
   },
   "outputs": [
    {
     "name": "stdout",
     "output_type": "stream",
     "text": [
      "Compute best hyperparameters\n",
      ">>> Finished in 33.8860 secs\n",
      "New index params: nprobe=8,efSearch=16,ht=2048\n",
      "Set search hyperparameters for the index\n",
      ">>> Finished in 0.0001 secs\n"
     ]
    }
   ],
   "source": [
    "index_key = INDEX_PATH_ON_HDFS.split(\"/\")[-1].split(\"-\")[0]\n",
    "\n",
    "with Timeit(\"Compute best hyperparameters\"):\n",
    "    index_param = get_optimal_hyperparameters(my_index, index_key, max_speed=1.0)\n",
    "\n",
    "print(f\"New index params: {index_param}\")\n",
    "\n",
    "with Timeit(\"Set search hyperparameters for the index\"):\n",
    "    set_search_hyperparameters(my_index, index_param, use_gpu=False)"
   ]
  },
  {
   "cell_type": "code",
   "execution_count": null,
   "metadata": {},
   "outputs": [],
   "source": []
  }
 ],
 "metadata": {
  "kernelspec": {
   "display_name": "Python 3",
   "language": "python",
   "name": "python3"
  },
  "language_info": {
   "codemirror_mode": {
    "name": "ipython",
    "version": 3
   },
   "file_extension": ".py",
   "mimetype": "text/x-python",
   "name": "python",
   "nbconvert_exporter": "python",
   "pygments_lexer": "ipython3",
   "version": "3.7.7"
  }
 },
 "nbformat": 4,
 "nbformat_minor": 2
}
